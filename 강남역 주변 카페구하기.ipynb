{
 "cells": [
  {
   "cell_type": "code",
   "execution_count": null,
   "id": "b0c35d8f-bc89-4cbc-8890-5f23dfac353a",
   "metadata": {
    "scrolled": true
   },
   "outputs": [],
   "source": [
    "import pandas as pd\n",
    "from geopy.distance import geodesic\n",
    "data = pd.read_csv('C:/상권_서울.csv',encoding ='cp949')\n",
    "new_data = data[data['상권업종소분류명'].str.contains('카페')]\n",
    "new_data1 = new_data[new_data['지번주소'].str.contains('서울특별시 서초구')]\n",
    "new_data2 = new_data[new_data['지번주소'].str.contains('서울특별시 강남')]\n",
    "data_df = pd.concat([new_data1, new_data2])\n",
    "data_df"
   ]
  },
  {
   "cell_type": "code",
   "execution_count": null,
   "id": "c273d171-822a-4b59-8418-4f15bb1743f1",
   "metadata": {},
   "outputs": [],
   "source": [
    "import folium\n",
    "gangnam_station = (37.498085, 127.027676)\n",
    "map = folium.Map(location = gangnam_station, zoom_start = 16)\n",
    "Map = folium.Map(location = [37.498085, 127.027676] , zoom_start = 16)\n",
    "\n",
    "folium.Circle(location = gangnam_station,\n",
    "              radius = 200,\n",
    "              color = 'blue',\n",
    "              fill = True,\n",
    "              fill_color ='skyblue').add_to(map)\n",
    "map"
   ]
  },
  {
   "cell_type": "code",
   "execution_count": null,
   "id": "091a957a-3500-47b7-b059-bd6a0ce942f9",
   "metadata": {},
   "outputs": [],
   "source": [
    "locations_inside_circle = []\n",
    "for index, row in data_df.iterrows():\n",
    "    location = (row['위도'],row['경도'])\n",
    "    if geodesic(location, gangnam_station).meters <= 200:\n",
    "        locations_inside_circle.append(row['상가업소번호'])\n",
    "print(locations_inside_circle)"
   ]
  },
  {
   "cell_type": "code",
   "execution_count": null,
   "id": "ba269971-1762-49b9-b2d0-f48ae6b05dbd",
   "metadata": {},
   "outputs": [],
   "source": [
    "print(data_df[data_df[\"상가업소번호\"] == \"MA010120220809830583\"])"
   ]
  },
  {
   "cell_type": "code",
   "execution_count": null,
   "id": "137e0b77-69a8-4ca8-8b11-6fd1e4694f55",
   "metadata": {},
   "outputs": [],
   "source": [
    "print(data_df[data_df['상가업소번호'].isin(locations_inside_circle)])\n"
   ]
  },
  {
   "cell_type": "code",
   "execution_count": null,
   "id": "ec8a3e0f-7c30-415f-a017-c3a4a7279060",
   "metadata": {},
   "outputs": [],
   "source": [
    "gangnam_station = data_df[data_df[\"상가업소번호\"].isin(locations_inside_circle)]\n",
    "gangnam_station.to_csv('C:/data/gangnam_station.csv')"
   ]
  },
  {
   "cell_type": "code",
   "execution_count": null,
   "id": "3d98d217-73c5-4f42-a07c-ed24c91e2829",
   "metadata": {},
   "outputs": [],
   "source": [
    "data = pd.read_csv('C:/data/gangnam_station.csv',encoding = 'cp949')\n",
    "\n",
    "gangnam_map = folium.Map(locations = [37.498085, 127.027676] , zoom_start = 12)\n",
    "\n",
    "gangnam_map"
   ]
  },
  {
   "cell_type": "code",
   "execution_count": null,
   "id": "6157e774-11d5-4098-992b-40c11f50ed89",
   "metadata": {},
   "outputs": [],
   "source": [
    "for i in range(len(data)):\n",
    "    marker01 = folium.Marker([data.loc[i]['위도'], data.loc[i]['경도']],\n",
    "                             icon = folium.Icon(color = 'red'))\n",
    "    marker01.add_to(gangnam_station)\n",
    "gangnam_station"
   ]
  }
 ],
 "metadata": {
  "kernelspec": {
   "display_name": "Python 3 (ipykernel)",
   "language": "python",
   "name": "python3"
  },
  "language_info": {
   "codemirror_mode": {
    "name": "ipython",
    "version": 3
   },
   "file_extension": ".py",
   "mimetype": "text/x-python",
   "name": "python",
   "nbconvert_exporter": "python",
   "pygments_lexer": "ipython3",
   "version": "3.11.7"
  }
 },
 "nbformat": 4,
 "nbformat_minor": 5
}
